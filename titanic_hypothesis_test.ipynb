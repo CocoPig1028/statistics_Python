{
 "cells": [
  {
   "cell_type": "code",
   "execution_count": 1,
   "id": "273645e0",
   "metadata": {},
   "outputs": [],
   "source": [
    "# kaggle titanic의 경우 데이터 분석과 학습을 통한 생존자 예측 -> 회귀\n",
    "import pandas as pd\n",
    "import numpy as np\n",
    "import matplotlib.pyplot as plt"
   ]
  },
  {
   "cell_type": "code",
   "execution_count": 2,
   "id": "e4b01622",
   "metadata": {},
   "outputs": [
    {
     "name": "stdout",
     "output_type": "stream",
     "text": [
      "     PassengerId  Survived  Pclass  \\\n",
      "0              1         0       3   \n",
      "1              2         1       1   \n",
      "2              3         1       3   \n",
      "3              4         1       1   \n",
      "4              5         0       3   \n",
      "..           ...       ...     ...   \n",
      "886          887         0       2   \n",
      "887          888         1       1   \n",
      "888          889         0       3   \n",
      "889          890         1       1   \n",
      "890          891         0       3   \n",
      "\n",
      "                                                  Name     Sex   Age  SibSp  \\\n",
      "0                              Braund, Mr. Owen Harris    male  22.0      1   \n",
      "1    Cumings, Mrs. John Bradley (Florence Briggs Th...  female  38.0      1   \n",
      "2                               Heikkinen, Miss. Laina  female  26.0      0   \n",
      "3         Futrelle, Mrs. Jacques Heath (Lily May Peel)  female  35.0      1   \n",
      "4                             Allen, Mr. William Henry    male  35.0      0   \n",
      "..                                                 ...     ...   ...    ...   \n",
      "886                              Montvila, Rev. Juozas    male  27.0      0   \n",
      "887                       Graham, Miss. Margaret Edith  female  19.0      0   \n",
      "888           Johnston, Miss. Catherine Helen \"Carrie\"  female   NaN      1   \n",
      "889                              Behr, Mr. Karl Howell    male  26.0      0   \n",
      "890                                Dooley, Mr. Patrick    male  32.0      0   \n",
      "\n",
      "     Parch            Ticket     Fare Cabin Embarked  \n",
      "0        0         A/5 21171   7.2500   NaN        S  \n",
      "1        0          PC 17599  71.2833   C85        C  \n",
      "2        0  STON/O2. 3101282   7.9250   NaN        S  \n",
      "3        0            113803  53.1000  C123        S  \n",
      "4        0            373450   8.0500   NaN        S  \n",
      "..     ...               ...      ...   ...      ...  \n",
      "886      0            211536  13.0000   NaN        S  \n",
      "887      0            112053  30.0000   B42        S  \n",
      "888      2        W./C. 6607  23.4500   NaN        S  \n",
      "889      0            111369  30.0000  C148        C  \n",
      "890      0            370376   7.7500   NaN        Q  \n",
      "\n",
      "[891 rows x 12 columns]\n",
      "     PassengerId  Pclass                                          Name  \\\n",
      "0            892       3                              Kelly, Mr. James   \n",
      "1            893       3              Wilkes, Mrs. James (Ellen Needs)   \n",
      "2            894       2                     Myles, Mr. Thomas Francis   \n",
      "3            895       3                              Wirz, Mr. Albert   \n",
      "4            896       3  Hirvonen, Mrs. Alexander (Helga E Lindqvist)   \n",
      "..           ...     ...                                           ...   \n",
      "413         1305       3                            Spector, Mr. Woolf   \n",
      "414         1306       1                  Oliva y Ocana, Dona. Fermina   \n",
      "415         1307       3                  Saether, Mr. Simon Sivertsen   \n",
      "416         1308       3                           Ware, Mr. Frederick   \n",
      "417         1309       3                      Peter, Master. Michael J   \n",
      "\n",
      "        Sex   Age  SibSp  Parch              Ticket      Fare Cabin Embarked  \n",
      "0      male  34.5      0      0              330911    7.8292   NaN        Q  \n",
      "1    female  47.0      1      0              363272    7.0000   NaN        S  \n",
      "2      male  62.0      0      0              240276    9.6875   NaN        Q  \n",
      "3      male  27.0      0      0              315154    8.6625   NaN        S  \n",
      "4    female  22.0      1      1             3101298   12.2875   NaN        S  \n",
      "..      ...   ...    ...    ...                 ...       ...   ...      ...  \n",
      "413    male   NaN      0      0           A.5. 3236    8.0500   NaN        S  \n",
      "414  female  39.0      0      0            PC 17758  108.9000  C105        C  \n",
      "415    male  38.5      0      0  SOTON/O.Q. 3101262    7.2500   NaN        S  \n",
      "416    male   NaN      0      0              359309    8.0500   NaN        S  \n",
      "417    male   NaN      1      1                2668   22.3583   NaN        C  \n",
      "\n",
      "[418 rows x 11 columns]\n",
      "     PassengerId  Survived\n",
      "0            892         0\n",
      "1            893         1\n",
      "2            894         0\n",
      "3            895         0\n",
      "4            896         1\n",
      "..           ...       ...\n",
      "413         1305         0\n",
      "414         1306         1\n",
      "415         1307         0\n",
      "416         1308         0\n",
      "417         1309         0\n",
      "\n",
      "[418 rows x 2 columns]\n"
     ]
    }
   ],
   "source": [
    "# 데이터 불러오기\n",
    "train = pd.read_csv('./titanicData/train.csv')\n",
    "test = pd.read_csv('./titanicData/test.csv')\n",
    "gender_submission = pd.read_csv('./titanicData/gender_submission.csv')\n",
    "\n",
    "print(train)\n",
    "print(test)\n",
    "print(gender_submission)"
   ]
  },
  {
   "cell_type": "code",
   "execution_count": 3,
   "id": "f0c7040d",
   "metadata": {},
   "outputs": [
    {
     "name": "stdout",
     "output_type": "stream",
     "text": [
      "<class 'pandas.core.frame.DataFrame'>\n",
      "RangeIndex: 891 entries, 0 to 890\n",
      "Data columns (total 12 columns):\n",
      " #   Column       Non-Null Count  Dtype  \n",
      "---  ------       --------------  -----  \n",
      " 0   PassengerId  891 non-null    int64  \n",
      " 1   Survived     891 non-null    int64  \n",
      " 2   Pclass       891 non-null    int64  \n",
      " 3   Name         891 non-null    object \n",
      " 4   Sex          891 non-null    object \n",
      " 5   Age          714 non-null    float64\n",
      " 6   SibSp        891 non-null    int64  \n",
      " 7   Parch        891 non-null    int64  \n",
      " 8   Ticket       891 non-null    object \n",
      " 9   Fare         891 non-null    float64\n",
      " 10  Cabin        204 non-null    object \n",
      " 11  Embarked     889 non-null    object \n",
      "dtypes: float64(2), int64(5), object(5)\n",
      "memory usage: 83.7+ KB\n",
      "<class 'pandas.core.frame.DataFrame'>\n",
      "RangeIndex: 418 entries, 0 to 417\n",
      "Data columns (total 11 columns):\n",
      " #   Column       Non-Null Count  Dtype  \n",
      "---  ------       --------------  -----  \n",
      " 0   PassengerId  418 non-null    int64  \n",
      " 1   Pclass       418 non-null    int64  \n",
      " 2   Name         418 non-null    object \n",
      " 3   Sex          418 non-null    object \n",
      " 4   Age          332 non-null    float64\n",
      " 5   SibSp        418 non-null    int64  \n",
      " 6   Parch        418 non-null    int64  \n",
      " 7   Ticket       418 non-null    object \n",
      " 8   Fare         417 non-null    float64\n",
      " 9   Cabin        91 non-null     object \n",
      " 10  Embarked     418 non-null    object \n",
      "dtypes: float64(2), int64(4), object(5)\n",
      "memory usage: 36.0+ KB\n"
     ]
    }
   ],
   "source": [
    "train.info()\n",
    "test.info()\n",
    "\n",
    "# train -> Age, Cabin, Embarked null 존재\n",
    "# test -> Age, Fare, Cabin, Embarked null 존재\n",
    "# Sex의 경우 카테고리형 데이터이기 때문에 수치형으로 변환시켜야함"
   ]
  },
  {
   "cell_type": "code",
   "execution_count": 4,
   "id": "58ac3153",
   "metadata": {},
   "outputs": [],
   "source": [
    "## 'Sex' 형변환\n",
    "from sklearn.preprocessing import LabelEncoder\n",
    "\n",
    "le = LabelEncoder()\n",
    "\n",
    "# train_sex_result = le.fit_transform(train['Sex'])\n",
    "train['Sex_numeric'] = le.fit_transform(train['Sex'])\n",
    "# test_sex_result = le.fit_transform(test['Sex'])\n",
    "test['Sex_numeric'] = le.fit_transform(test['Sex'])"
   ]
  },
  {
   "cell_type": "code",
   "execution_count": 5,
   "id": "ce33154b",
   "metadata": {},
   "outputs": [
    {
     "name": "stdout",
     "output_type": "stream",
     "text": [
      "Embarked\n",
      "S    644\n",
      "C    168\n",
      "Q     77\n",
      "Name: count, dtype: int64\n"
     ]
    }
   ],
   "source": [
    "print(train['Embarked'].value_counts())"
   ]
  },
  {
   "cell_type": "code",
   "execution_count": 6,
   "id": "e9349764",
   "metadata": {},
   "outputs": [],
   "source": [
    "# null값을 가장 많은 S로 치환해야함\n",
    "train['Embarked'].fillna('S', inplace=True)\n",
    "\n",
    "# train_embarked_result = le.fit_transform(train['Embarked'])\n",
    "train['Embarked_numeric'] = le.fit_transform(train['Embarked'])\n",
    "# test_embarked_result = le.fit_transform(test['Embarked'])\n",
    "test['Embarked_numeric'] = le.fit_transform(test['Embarked'])\n",
    "# embarked 수치형으로 변환"
   ]
  },
  {
   "cell_type": "code",
   "execution_count": 7,
   "id": "9813b72d",
   "metadata": {},
   "outputs": [],
   "source": [
    "train['Age'].fillna(train['Age'].median(), inplace=True)\n",
    "test['Age'].fillna(test['Age'].median(), inplace=True)\n",
    "# 나이의 null값은 평균값으로 치환"
   ]
  },
  {
   "cell_type": "code",
   "execution_count": 8,
   "id": "cecb6792",
   "metadata": {},
   "outputs": [],
   "source": [
    "test['Fare'].fillna(test['Fare'].median(), inplace=True)"
   ]
  },
  {
   "cell_type": "code",
   "execution_count": 9,
   "id": "e9e5f9b7",
   "metadata": {},
   "outputs": [
    {
     "name": "stdout",
     "output_type": "stream",
     "text": [
      "Cabin_site\n",
      "C    59\n",
      "B    47\n",
      "D    33\n",
      "E    32\n",
      "A    15\n",
      "F    13\n",
      "G     4\n",
      "T     1\n",
      "Name: count, dtype: int64\n"
     ]
    }
   ],
   "source": [
    "mapping_num = {'A': 0, 'B': 1, 'C': 2, 'D': 3, 'E': 4, 'F': 5, 'G': 6, 'T': 7}\n",
    "\n",
    "train['Cabin_site'] = train['Cabin'].str[:1]\n",
    "# 맨 앞에가 알파벳이기 때문에 나머지를 빼고 Cabin_site에 저장\n",
    "print(train['Cabin_site'].value_counts())\n",
    "train['Cabin_site'] = train['Cabin_site'].map(mapping_num)\n",
    "# 맵핑 넘버로 치환"
   ]
  },
  {
   "cell_type": "code",
   "execution_count": 10,
   "id": "1e18fd3d",
   "metadata": {},
   "outputs": [
    {
     "name": "stdout",
     "output_type": "stream",
     "text": [
      "Cabin_site\n",
      "5.0    491\n",
      "2.0    216\n",
      "4.5    184\n",
      "Name: count, dtype: int64\n"
     ]
    }
   ],
   "source": [
    "train['Cabin_site'] = train.groupby('Pclass')['Cabin_site'].transform('median')\n",
    "print(train['Cabin_site'].value_counts())"
   ]
  },
  {
   "cell_type": "code",
   "execution_count": 11,
   "id": "ea1d9a3c",
   "metadata": {},
   "outputs": [
    {
     "name": "stdout",
     "output_type": "stream",
     "text": [
      "Cabin_site\n",
      "C    35\n",
      "B    18\n",
      "D    13\n",
      "E     9\n",
      "F     8\n",
      "A     7\n",
      "G     1\n",
      "Name: count, dtype: int64\n"
     ]
    }
   ],
   "source": [
    "test['Cabin_site'] = test['Cabin'].str[:1]\n",
    "# 맨 앞에가 알파벳이기 때문에 나머지를 빼고 Cabin_site에 저장\n",
    "print(test['Cabin_site'].value_counts())\n",
    "test['Cabin_site'] = test['Cabin_site'].map(mapping_num)\n",
    "# 맵핑 넘버로 치환"
   ]
  },
  {
   "cell_type": "code",
   "execution_count": 12,
   "id": "387d86b4",
   "metadata": {},
   "outputs": [
    {
     "name": "stdout",
     "output_type": "stream",
     "text": [
      "Cabin_site\n",
      "5.0    311\n",
      "2.0    107\n",
      "Name: count, dtype: int64\n"
     ]
    }
   ],
   "source": [
    "test['Cabin_site'] = test.groupby('Pclass')['Cabin_site'].transform('median')\n",
    "print(test['Cabin_site'].value_counts())"
   ]
  },
  {
   "cell_type": "code",
   "execution_count": 13,
   "id": "1bff874f",
   "metadata": {},
   "outputs": [
    {
     "data": {
      "text/html": [
       "<div>\n",
       "<style scoped>\n",
       "    .dataframe tbody tr th:only-of-type {\n",
       "        vertical-align: middle;\n",
       "    }\n",
       "\n",
       "    .dataframe tbody tr th {\n",
       "        vertical-align: top;\n",
       "    }\n",
       "\n",
       "    .dataframe thead th {\n",
       "        text-align: right;\n",
       "    }\n",
       "</style>\n",
       "<table border=\"1\" class=\"dataframe\">\n",
       "  <thead>\n",
       "    <tr style=\"text-align: right;\">\n",
       "      <th></th>\n",
       "      <th>PassengerId</th>\n",
       "      <th>Survived</th>\n",
       "      <th>Pclass</th>\n",
       "      <th>Name</th>\n",
       "      <th>Sex</th>\n",
       "      <th>Age</th>\n",
       "      <th>SibSp</th>\n",
       "      <th>Parch</th>\n",
       "      <th>Ticket</th>\n",
       "      <th>Fare</th>\n",
       "      <th>Cabin</th>\n",
       "      <th>Embarked</th>\n",
       "      <th>Sex_numeric</th>\n",
       "      <th>Embarked_numeric</th>\n",
       "      <th>Cabin_site</th>\n",
       "    </tr>\n",
       "  </thead>\n",
       "  <tbody>\n",
       "    <tr>\n",
       "      <th>0</th>\n",
       "      <td>1</td>\n",
       "      <td>0</td>\n",
       "      <td>3</td>\n",
       "      <td>Braund, Mr. Owen Harris</td>\n",
       "      <td>male</td>\n",
       "      <td>22.0</td>\n",
       "      <td>1</td>\n",
       "      <td>0</td>\n",
       "      <td>A/5 21171</td>\n",
       "      <td>7.2500</td>\n",
       "      <td>NaN</td>\n",
       "      <td>S</td>\n",
       "      <td>1</td>\n",
       "      <td>2</td>\n",
       "      <td>5.0</td>\n",
       "    </tr>\n",
       "    <tr>\n",
       "      <th>1</th>\n",
       "      <td>2</td>\n",
       "      <td>1</td>\n",
       "      <td>1</td>\n",
       "      <td>Cumings, Mrs. John Bradley (Florence Briggs Th...</td>\n",
       "      <td>female</td>\n",
       "      <td>38.0</td>\n",
       "      <td>1</td>\n",
       "      <td>0</td>\n",
       "      <td>PC 17599</td>\n",
       "      <td>71.2833</td>\n",
       "      <td>C85</td>\n",
       "      <td>C</td>\n",
       "      <td>0</td>\n",
       "      <td>0</td>\n",
       "      <td>2.0</td>\n",
       "    </tr>\n",
       "    <tr>\n",
       "      <th>2</th>\n",
       "      <td>3</td>\n",
       "      <td>1</td>\n",
       "      <td>3</td>\n",
       "      <td>Heikkinen, Miss. Laina</td>\n",
       "      <td>female</td>\n",
       "      <td>26.0</td>\n",
       "      <td>0</td>\n",
       "      <td>0</td>\n",
       "      <td>STON/O2. 3101282</td>\n",
       "      <td>7.9250</td>\n",
       "      <td>NaN</td>\n",
       "      <td>S</td>\n",
       "      <td>0</td>\n",
       "      <td>2</td>\n",
       "      <td>5.0</td>\n",
       "    </tr>\n",
       "    <tr>\n",
       "      <th>3</th>\n",
       "      <td>4</td>\n",
       "      <td>1</td>\n",
       "      <td>1</td>\n",
       "      <td>Futrelle, Mrs. Jacques Heath (Lily May Peel)</td>\n",
       "      <td>female</td>\n",
       "      <td>35.0</td>\n",
       "      <td>1</td>\n",
       "      <td>0</td>\n",
       "      <td>113803</td>\n",
       "      <td>53.1000</td>\n",
       "      <td>C123</td>\n",
       "      <td>S</td>\n",
       "      <td>0</td>\n",
       "      <td>2</td>\n",
       "      <td>2.0</td>\n",
       "    </tr>\n",
       "    <tr>\n",
       "      <th>4</th>\n",
       "      <td>5</td>\n",
       "      <td>0</td>\n",
       "      <td>3</td>\n",
       "      <td>Allen, Mr. William Henry</td>\n",
       "      <td>male</td>\n",
       "      <td>35.0</td>\n",
       "      <td>0</td>\n",
       "      <td>0</td>\n",
       "      <td>373450</td>\n",
       "      <td>8.0500</td>\n",
       "      <td>NaN</td>\n",
       "      <td>S</td>\n",
       "      <td>1</td>\n",
       "      <td>2</td>\n",
       "      <td>5.0</td>\n",
       "    </tr>\n",
       "  </tbody>\n",
       "</table>\n",
       "</div>"
      ],
      "text/plain": [
       "   PassengerId  Survived  Pclass  \\\n",
       "0            1         0       3   \n",
       "1            2         1       1   \n",
       "2            3         1       3   \n",
       "3            4         1       1   \n",
       "4            5         0       3   \n",
       "\n",
       "                                                Name     Sex   Age  SibSp  \\\n",
       "0                            Braund, Mr. Owen Harris    male  22.0      1   \n",
       "1  Cumings, Mrs. John Bradley (Florence Briggs Th...  female  38.0      1   \n",
       "2                             Heikkinen, Miss. Laina  female  26.0      0   \n",
       "3       Futrelle, Mrs. Jacques Heath (Lily May Peel)  female  35.0      1   \n",
       "4                           Allen, Mr. William Henry    male  35.0      0   \n",
       "\n",
       "   Parch            Ticket     Fare Cabin Embarked  Sex_numeric  \\\n",
       "0      0         A/5 21171   7.2500   NaN        S            1   \n",
       "1      0          PC 17599  71.2833   C85        C            0   \n",
       "2      0  STON/O2. 3101282   7.9250   NaN        S            0   \n",
       "3      0            113803  53.1000  C123        S            0   \n",
       "4      0            373450   8.0500   NaN        S            1   \n",
       "\n",
       "   Embarked_numeric  Cabin_site  \n",
       "0                 2         5.0  \n",
       "1                 0         2.0  \n",
       "2                 2         5.0  \n",
       "3                 2         2.0  \n",
       "4                 2         5.0  "
      ]
     },
     "execution_count": 13,
     "metadata": {},
     "output_type": "execute_result"
    }
   ],
   "source": [
    "train.head()"
   ]
  },
  {
   "cell_type": "code",
   "execution_count": 14,
   "id": "859226c7",
   "metadata": {},
   "outputs": [],
   "source": [
    "train.loc[train['Age'] <= 10, 'Age_partition'] = 0\n",
    "train.loc[(train['Age'] > 10) & (train['Age'] > 16), 'Age_partition'] = 1\n",
    "train.loc[(train['Age'] > 16) & (train['Age'] > 20), 'Age_partition'] = 2\n",
    "train.loc[(train['Age'] > 20) & (train['Age'] > 26), 'Age_partition'] = 3\n",
    "train.loc[(train['Age'] > 26) & (train['Age'] > 30), 'Age_partition'] = 4\n",
    "train.loc[(train['Age'] > 30) & (train['Age'] > 36), 'Age_partition'] = 5\n",
    "train.loc[(train['Age'] > 36) & (train['Age'] > 40), 'Age_partition'] = 6\n",
    "train.loc[(train['Age'] > 40) & (train['Age'] > 46), 'Age_partition'] = 7\n",
    "train.loc[(train['Age'] > 46) & (train['Age'] > 50), 'Age_partition'] = 8\n",
    "train.loc[(train['Age'] > 50) & (train['Age'] > 56), 'Age_partition'] = 9\n",
    "train.loc[(train['Age'] > 56) & (train['Age'] > 60), 'Age_partition'] = 10\n",
    "train.loc[train['Age'] > 60, 'Age_partition'] = 11"
   ]
  },
  {
   "cell_type": "code",
   "execution_count": 15,
   "id": "2dd64272",
   "metadata": {},
   "outputs": [
    {
     "data": {
      "image/png": "[encoded data removed]",
      "text/plain": [
       "<Figure size 800x800 with 2 Axes>"
      ]
     },
     "metadata": {},
     "output_type": "display_data"
    }
   ],
   "source": [
    "# 각 연령대별 생존자와 사망자 수 계산\n",
    "age_survival_counts = train.groupby('Age_partition')['Survived'].value_counts().unstack().fillna(0)\n",
    "\n",
    "# 'Did Not Survive'와 'Survived'를 각각 따로 추출\n",
    "did_not_survive = age_survival_counts[0]\n",
    "survived = age_survival_counts[1]\n",
    "\n",
    "# 그래프 그리기\n",
    "fig, (ax1, ax2) = plt.subplots(2, 1, figsize=(8, 8))\n",
    "\n",
    "# Did Not Survive 그래프\n",
    "did_not_survive.plot(kind='bar', ax=ax1, color='red', label='Did Not Survive')\n",
    "ax1.set_xlabel('Age Partition')\n",
    "ax1.set_ylabel('Count')\n",
    "ax1.set_title('Did Not Survive by Age Partition')\n",
    "\n",
    "# Survived 그래프\n",
    "survived.plot(kind='bar', ax=ax2, color='blue', label='Survived')\n",
    "ax2.set_xlabel('Age Partition')\n",
    "ax2.set_ylabel('Count')\n",
    "ax2.set_title('Survived by Age Partition')\n",
    "\n",
    "plt.tight_layout()\n",
    "plt.show()\n"
   ]
  },
  {
   "cell_type": "code",
   "execution_count": 52,
   "id": "f8c0e72a",
   "metadata": {},
   "outputs": [],
   "source": [
    "from scipy.stats import f_oneway\n",
    "# 두개 이상의 집단을 분석하기 위해 t-test말고 분산 분석을 사용\n",
    "\n",
    "# 데이터 분할\n",
    "group1 = train[train['Age_partition'].isin([0])]['Survived']\n",
    "group2 = train[train['Age_partition'].isin([1])]['Survived']\n",
    "group3 = train[train['Age_partition'].isin([2])]['Survived']\n",
    "group4 = train[train['Age_partition'].isin([3])]['Survived']\n",
    "group5 = train[train['Age_partition'].isin([4])]['Survived']\n",
    "group6 = train[train['Age_partition'].isin([5])]['Survived']\n",
    "group7 = train[train['Age_partition'].isin([6])]['Survived']\n",
    "group8 = train[train['Age_partition'].isin([7])]['Survived']\n",
    "group9 = train[train['Age_partition'].isin([8])]['Survived']\n",
    "group10 = train[train['Age_partition'].isin([9])]['Survived']\n",
    "group11 = train[train['Age_partition'].isin([10])]['Survived']\n",
    "group11 = train[train['Age_partition'].isin([11])]['Survived']"
   ]
  },
  {
   "cell_type": "code",
   "execution_count": 61,
   "id": "a80b7b5e",
   "metadata": {},
   "outputs": [
    {
     "name": "stdout",
     "output_type": "stream",
     "text": [
      "p-value :  0.005541, 연령 그룹 간의 생존률에 통계적으로 유의미한 차이가 있다.\n"
     ]
    }
   ],
   "source": [
    "f_statistic, p_value = f_oneway(group1, group2, group3, group4, group5, group6, group7, group8, group9, group10, group11)\n",
    "\n",
    "if p_value < 0.05:\n",
    "    print(f'p-value : {p_value: 4f}, 연령 그룹 간의 생존률에 통계적으로 유의미한 차이가 있다.')\n",
    "else:\n",
    "    print(f'p-value : {p_value: 4f}, 연령 그룹 간의 생존률에 통계적으로 유의미한 차이가 없다.')"
   ]
  },
  {
   "cell_type": "code",
   "execution_count": 92,
   "id": "db9e8848",
   "metadata": {},
   "outputs": [
    {
     "name": "stdout",
     "output_type": "stream",
     "text": [
      "     PassengerId  Survived  Pclass                            Name   Sex  \\\n",
      "0              1         0       3         Braund, Mr. Owen Harris  male   \n",
      "4              5         0       3        Allen, Mr. William Henry  male   \n",
      "5              6         0       3                Moran, Mr. James  male   \n",
      "6              7         0       1         McCarthy, Mr. Timothy J  male   \n",
      "7              8         0       3  Palsson, Master. Gosta Leonard  male   \n",
      "..           ...       ...     ...                             ...   ...   \n",
      "883          884         0       2   Banfield, Mr. Frederick James  male   \n",
      "884          885         0       3          Sutehall, Mr. Henry Jr  male   \n",
      "886          887         0       2           Montvila, Rev. Juozas  male   \n",
      "889          890         1       1           Behr, Mr. Karl Howell  male   \n",
      "890          891         0       3             Dooley, Mr. Patrick  male   \n",
      "\n",
      "      Age  SibSp  Parch            Ticket     Fare Cabin Embarked  \\\n",
      "0    22.0      1      0         A/5 21171   7.2500   NaN        S   \n",
      "4    35.0      0      0            373450   8.0500   NaN        S   \n",
      "5    28.0      0      0            330877   8.4583   NaN        Q   \n",
      "6    54.0      0      0             17463  51.8625   E46        S   \n",
      "7     2.0      3      1            349909  21.0750   NaN        S   \n",
      "..    ...    ...    ...               ...      ...   ...      ...   \n",
      "883  28.0      0      0  C.A./SOTON 34068  10.5000   NaN        S   \n",
      "884  25.0      0      0   SOTON/OQ 392076   7.0500   NaN        S   \n",
      "886  27.0      0      0            211536  13.0000   NaN        S   \n",
      "889  26.0      0      0            111369  30.0000  C148        C   \n",
      "890  32.0      0      0            370376   7.7500   NaN        Q   \n",
      "\n",
      "     Sex_numeric  Embarked_numeric  Cabin_site  Age_partition  \n",
      "0              1                 2         5.0            2.0  \n",
      "4              1                 2         5.0            4.0  \n",
      "5              1                 1         5.0            3.0  \n",
      "6              1                 2         2.0            8.0  \n",
      "7              1                 2         5.0            0.0  \n",
      "..           ...               ...         ...            ...  \n",
      "883            1                 2         4.5            3.0  \n",
      "884            1                 2         5.0            2.0  \n",
      "886            1                 2         4.5            3.0  \n",
      "889            1                 0         2.0            2.0  \n",
      "890            1                 1         5.0            4.0  \n",
      "\n",
      "[577 rows x 16 columns]\n",
      "     PassengerId  Survived  Pclass  \\\n",
      "1              2         1       1   \n",
      "2              3         1       3   \n",
      "3              4         1       1   \n",
      "8              9         1       3   \n",
      "9             10         1       2   \n",
      "..           ...       ...     ...   \n",
      "880          881         1       2   \n",
      "882          883         0       3   \n",
      "885          886         0       3   \n",
      "887          888         1       1   \n",
      "888          889         0       3   \n",
      "\n",
      "                                                  Name     Sex   Age  SibSp  \\\n",
      "1    Cumings, Mrs. John Bradley (Florence Briggs Th...  female  38.0      1   \n",
      "2                               Heikkinen, Miss. Laina  female  26.0      0   \n",
      "3         Futrelle, Mrs. Jacques Heath (Lily May Peel)  female  35.0      1   \n",
      "8    Johnson, Mrs. Oscar W (Elisabeth Vilhelmina Berg)  female  27.0      0   \n",
      "9                  Nasser, Mrs. Nicholas (Adele Achem)  female  14.0      1   \n",
      "..                                                 ...     ...   ...    ...   \n",
      "880       Shelley, Mrs. William (Imanita Parrish Hall)  female  25.0      0   \n",
      "882                       Dahlberg, Miss. Gerda Ulrika  female  22.0      0   \n",
      "885               Rice, Mrs. William (Margaret Norton)  female  39.0      0   \n",
      "887                       Graham, Miss. Margaret Edith  female  19.0      0   \n",
      "888           Johnston, Miss. Catherine Helen \"Carrie\"  female  28.0      1   \n",
      "\n",
      "     Parch            Ticket     Fare Cabin Embarked  Sex_numeric  \\\n",
      "1        0          PC 17599  71.2833   C85        C            0   \n",
      "2        0  STON/O2. 3101282   7.9250   NaN        S            0   \n",
      "3        0            113803  53.1000  C123        S            0   \n",
      "8        2            347742  11.1333   NaN        S            0   \n",
      "9        0            237736  30.0708   NaN        C            0   \n",
      "..     ...               ...      ...   ...      ...          ...   \n",
      "880      1            230433  26.0000   NaN        S            0   \n",
      "882      0              7552  10.5167   NaN        S            0   \n",
      "885      5            382652  29.1250   NaN        Q            0   \n",
      "887      0            112053  30.0000   B42        S            0   \n",
      "888      2        W./C. 6607  23.4500   NaN        S            0   \n",
      "\n",
      "     Embarked_numeric  Cabin_site  Age_partition  \n",
      "1                   0         2.0            5.0  \n",
      "2                   2         5.0            2.0  \n",
      "3                   2         2.0            4.0  \n",
      "8                   2         5.0            3.0  \n",
      "9                   0         4.5            NaN  \n",
      "..                ...         ...            ...  \n",
      "880                 2         4.5            2.0  \n",
      "882                 2         5.0            2.0  \n",
      "885                 1         5.0            5.0  \n",
      "887                 2         2.0            1.0  \n",
      "888                 2         5.0            3.0  \n",
      "\n",
      "[314 rows x 16 columns]\n"
     ]
    }
   ],
   "source": [
    "train['Sex_numeric'].value_counts()\n",
    "# 1이 남자 0이 여자\n",
    "\n",
    "male_survived = train[train['Sex_numeric'] == 1]\n",
    "female_survived = train[train['Sex_numeric'] == 0]\n",
    "\n",
    "print(male_survived)\n",
    "print(female_survived)"
   ]
  },
  {
   "cell_type": "code",
   "execution_count": 98,
   "id": "d85ae29b",
   "metadata": {},
   "outputs": [
    {
     "name": "stdout",
     "output_type": "stream",
     "text": [
      "0.18890814558058924\n",
      "0.7420382165605095\n"
     ]
    }
   ],
   "source": [
    "# 표본 평균\n",
    "male_sr = male_survived['Survived'].mean()\n",
    "female_sr = female_survived['Survived'].mean()\n",
    "\n",
    "print(male_sr)\n",
    "print(female_sr)"
   ]
  },
  {
   "cell_type": "code",
   "execution_count": 103,
   "id": "ae865f47",
   "metadata": {},
   "outputs": [
    {
     "name": "stdout",
     "output_type": "stream",
     "text": [
      "577\n",
      "314\n"
     ]
    }
   ],
   "source": [
    "# 표본 개수\n",
    "male_n = len(male_survived['Survived'])\n",
    "female_n = len(female_survived['Survived'])\n",
    "\n",
    "print(male_n)\n",
    "print(female_n)"
   ]
  },
  {
   "cell_type": "code",
   "execution_count": 112,
   "id": "481fc421",
   "metadata": {},
   "outputs": [
    {
     "name": "stdout",
     "output_type": "stream",
     "text": [
      "성별은 통계적으로 유의미한 차이가 있습니다.\n"
     ]
    }
   ],
   "source": [
    "from scipy.stats import ttest_ind\n",
    "\n",
    "t_stat, p_value = ttest_ind(male_survived['Survived'], female_survived['Survived'], equal_var=False)\n",
    "\n",
    "if p_value < 0.05:  # 유의수준 0.05를 사용한 경우\n",
    "    print(\"성별은 통계적으로 유의미한 차이가 있습니다.\")\n",
    "else:\n",
    "    print(\"성별은 통계적으로 유의미한 차이가 없습니다.\")"
   ]
  }
 ],
 "metadata": {
  "kernelspec": {
   "display_name": "Python 3 (ipykernel)",
   "language": "python",
   "name": "python3"
  },
  "language_info": {
   "codemirror_mode": {
    "name": "ipython",
    "version": 3
   },
   "file_extension": ".py",
   "mimetype": "text/x-python",
   "name": "python",
   "nbconvert_exporter": "python",
   "pygments_lexer": "ipython3",
   "version": "3.10.12"
  },
  "toc": {
   "base_numbering": 1,
   "nav_menu": {},
   "number_sections": true,
   "sideBar": true,
   "skip_h1_title": false,
   "title_cell": "Table of Contents",
   "title_sidebar": "Contents",
   "toc_cell": false,
   "toc_position": {},
   "toc_section_display": true,
   "toc_window_display": false
  }
 },
 "nbformat": 4,
 "nbformat_minor": 5
}
